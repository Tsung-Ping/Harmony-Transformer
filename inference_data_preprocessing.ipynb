{
 "cells": [
  {
   "cell_type": "code",
   "execution_count": 8,
   "metadata": {},
   "outputs": [],
   "source": [
    "import pandas as pd"
   ]
  },
  {
   "cell_type": "code",
   "execution_count": 9,
   "metadata": {},
   "outputs": [
    {
     "data": {
      "text/html": [
       "<div>\n",
       "<style scoped>\n",
       "    .dataframe tbody tr th:only-of-type {\n",
       "        vertical-align: middle;\n",
       "    }\n",
       "\n",
       "    .dataframe tbody tr th {\n",
       "        vertical-align: top;\n",
       "    }\n",
       "\n",
       "    .dataframe thead th {\n",
       "        text-align: right;\n",
       "    }\n",
       "</style>\n",
       "<table border=\"1\" class=\"dataframe\">\n",
       "  <thead>\n",
       "    <tr style=\"text-align: right;\">\n",
       "      <th></th>\n",
       "      <th>TIME</th>\n",
       "      <th>LABEL</th>\n",
       "    </tr>\n",
       "  </thead>\n",
       "  <tbody>\n",
       "    <tr>\n",
       "      <th>0</th>\n",
       "      <td>0.000000</td>\n",
       "      <td>N</td>\n",
       "    </tr>\n",
       "    <tr>\n",
       "      <th>1</th>\n",
       "      <td>0.092880</td>\n",
       "      <td>B</td>\n",
       "    </tr>\n",
       "    <tr>\n",
       "      <th>2</th>\n",
       "      <td>3.343673</td>\n",
       "      <td>F#7</td>\n",
       "    </tr>\n",
       "    <tr>\n",
       "      <th>3</th>\n",
       "      <td>5.387029</td>\n",
       "      <td>B</td>\n",
       "    </tr>\n",
       "    <tr>\n",
       "      <th>4</th>\n",
       "      <td>7.616145</td>\n",
       "      <td>Bm</td>\n",
       "    </tr>\n",
       "    <tr>\n",
       "      <th>...</th>\n",
       "      <td>...</td>\n",
       "      <td>...</td>\n",
       "    </tr>\n",
       "    <tr>\n",
       "      <th>63</th>\n",
       "      <td>166.254875</td>\n",
       "      <td>E</td>\n",
       "    </tr>\n",
       "    <tr>\n",
       "      <th>64</th>\n",
       "      <td>170.248707</td>\n",
       "      <td>B</td>\n",
       "    </tr>\n",
       "    <tr>\n",
       "      <th>65</th>\n",
       "      <td>174.985578</td>\n",
       "      <td>Bm</td>\n",
       "    </tr>\n",
       "    <tr>\n",
       "      <th>66</th>\n",
       "      <td>178.607891</td>\n",
       "      <td>C#7</td>\n",
       "    </tr>\n",
       "    <tr>\n",
       "      <th>67</th>\n",
       "      <td>183.716281</td>\n",
       "      <td>N</td>\n",
       "    </tr>\n",
       "  </tbody>\n",
       "</table>\n",
       "<p>68 rows × 2 columns</p>\n",
       "</div>"
      ],
      "text/plain": [
       "          TIME LABEL\n",
       "0     0.000000     N\n",
       "1     0.092880     B\n",
       "2     3.343673   F#7\n",
       "3     5.387029     B\n",
       "4     7.616145    Bm\n",
       "..         ...   ...\n",
       "63  166.254875     E\n",
       "64  170.248707     B\n",
       "65  174.985578    Bm\n",
       "66  178.607891   C#7\n",
       "67  183.716281     N\n",
       "\n",
       "[68 rows x 2 columns]"
      ]
     },
     "execution_count": 9,
     "metadata": {},
     "output_type": "execute_result"
    }
   ],
   "source": [
    "df = pd.read_csv(\"own_examples/penny_lane/penny_lane_chord_estimate.csv\")\n",
    "df"
   ]
  },
  {
   "cell_type": "code",
   "execution_count": 10,
   "metadata": {},
   "outputs": [
    {
     "data": {
      "text/html": [
       "<div>\n",
       "<style scoped>\n",
       "    .dataframe tbody tr th:only-of-type {\n",
       "        vertical-align: middle;\n",
       "    }\n",
       "\n",
       "    .dataframe tbody tr th {\n",
       "        vertical-align: top;\n",
       "    }\n",
       "\n",
       "    .dataframe thead th {\n",
       "        text-align: right;\n",
       "    }\n",
       "</style>\n",
       "<table border=\"1\" class=\"dataframe\">\n",
       "  <thead>\n",
       "    <tr style=\"text-align: right;\">\n",
       "      <th></th>\n",
       "      <th>start_time</th>\n",
       "      <th>end_time</th>\n",
       "      <th>label</th>\n",
       "    </tr>\n",
       "  </thead>\n",
       "  <tbody>\n",
       "    <tr>\n",
       "      <th>0</th>\n",
       "      <td>0.000000</td>\n",
       "      <td>0.092880</td>\n",
       "      <td>N</td>\n",
       "    </tr>\n",
       "    <tr>\n",
       "      <th>1</th>\n",
       "      <td>0.092880</td>\n",
       "      <td>3.343673</td>\n",
       "      <td>B</td>\n",
       "    </tr>\n",
       "    <tr>\n",
       "      <th>2</th>\n",
       "      <td>3.343673</td>\n",
       "      <td>5.387029</td>\n",
       "      <td>F#7</td>\n",
       "    </tr>\n",
       "    <tr>\n",
       "      <th>3</th>\n",
       "      <td>5.387029</td>\n",
       "      <td>7.616145</td>\n",
       "      <td>B</td>\n",
       "    </tr>\n",
       "    <tr>\n",
       "      <th>4</th>\n",
       "      <td>7.616145</td>\n",
       "      <td>9.566621</td>\n",
       "      <td>Bm</td>\n",
       "    </tr>\n",
       "    <tr>\n",
       "      <th>...</th>\n",
       "      <td>...</td>\n",
       "      <td>...</td>\n",
       "      <td>...</td>\n",
       "    </tr>\n",
       "    <tr>\n",
       "      <th>63</th>\n",
       "      <td>166.254875</td>\n",
       "      <td>170.248707</td>\n",
       "      <td>E</td>\n",
       "    </tr>\n",
       "    <tr>\n",
       "      <th>64</th>\n",
       "      <td>170.248707</td>\n",
       "      <td>174.985578</td>\n",
       "      <td>B</td>\n",
       "    </tr>\n",
       "    <tr>\n",
       "      <th>65</th>\n",
       "      <td>174.985578</td>\n",
       "      <td>178.607891</td>\n",
       "      <td>Bm</td>\n",
       "    </tr>\n",
       "    <tr>\n",
       "      <th>66</th>\n",
       "      <td>178.607891</td>\n",
       "      <td>183.716281</td>\n",
       "      <td>C#7</td>\n",
       "    </tr>\n",
       "    <tr>\n",
       "      <th>67</th>\n",
       "      <td>183.716281</td>\n",
       "      <td>183.717281</td>\n",
       "      <td>N</td>\n",
       "    </tr>\n",
       "  </tbody>\n",
       "</table>\n",
       "<p>68 rows × 3 columns</p>\n",
       "</div>"
      ],
      "text/plain": [
       "    start_time    end_time label\n",
       "0     0.000000    0.092880     N\n",
       "1     0.092880    3.343673     B\n",
       "2     3.343673    5.387029   F#7\n",
       "3     5.387029    7.616145     B\n",
       "4     7.616145    9.566621    Bm\n",
       "..         ...         ...   ...\n",
       "63  166.254875  170.248707     E\n",
       "64  170.248707  174.985578     B\n",
       "65  174.985578  178.607891    Bm\n",
       "66  178.607891  183.716281   C#7\n",
       "67  183.716281  183.717281     N\n",
       "\n",
       "[68 rows x 3 columns]"
      ]
     },
     "execution_count": 10,
     "metadata": {},
     "output_type": "execute_result"
    }
   ],
   "source": [
    "df_transformed = pd.DataFrame(\n",
    "    {\"start_time\": df[\"TIME\"], \"end_time\": df[\"TIME\"].shift(-1), \"label\": df[\"LABEL\"]}\n",
    ")\n",
    "\n",
    "epsilon = 1e-3\n",
    "df_transformed[\"end_time\"] = df_transformed[\"end_time\"].fillna(\n",
    "    df_transformed[\"start_time\"] + epsilon\n",
    ")\n",
    "df_transformed"
   ]
  },
  {
   "cell_type": "code",
   "execution_count": 11,
   "metadata": {},
   "outputs": [
    {
     "data": {
      "text/plain": [
       "array(['N', 'B', 'F#7', 'Bm', 'Abm7b5', 'Gmaj7', 'F#', 'E', 'A', 'D',\n",
       "       'Bmaj7', 'E6', 'C#7', 'F#maj7'], dtype=object)"
      ]
     },
     "execution_count": 11,
     "metadata": {},
     "output_type": "execute_result"
    }
   ],
   "source": [
    "# print all label values\n",
    "df_transformed[\"label\"].unique()"
   ]
  },
  {
   "cell_type": "code",
   "execution_count": 12,
   "metadata": {},
   "outputs": [
    {
     "data": {
      "text/plain": [
       "array(['N', 'B', 'F#', 'Bm', 'Abm', 'G', 'E', 'A', 'D', 'C#'],\n",
       "      dtype=object)"
      ]
     },
     "execution_count": 12,
     "metadata": {},
     "output_type": "execute_result"
    }
   ],
   "source": [
    "# rename labels with dict\n",
    "df_transformed[\"label\"] = df_transformed[\"label\"].replace(\n",
    "    {\n",
    "        \"F#7\": \"F#\",\n",
    "        \"Abm7b5\": \"Abm\",\n",
    "        \"Gmaj7\": \"G\",\n",
    "        \"Bmaj7\": \"B\",\n",
    "        \"E6\": \"E\",\n",
    "        \"C#7\": \"C#\",\n",
    "        \"F#maj7\": \"F#\",\n",
    "    }\n",
    ")\n",
    "\n",
    "df_transformed[\"label\"].unique()"
   ]
  },
  {
   "cell_type": "code",
   "execution_count": 13,
   "metadata": {},
   "outputs": [
    {
     "data": {
      "text/plain": [
       "array(['N', 'B:maj', 'F#:maj', 'B:min', 'Ab:min', 'G:maj', 'E:maj',\n",
       "       'A:maj', 'D:maj', 'C#:maj'], dtype=object)"
      ]
     },
     "execution_count": 13,
     "metadata": {},
     "output_type": "execute_result"
    }
   ],
   "source": [
    "def rename_chord(chord_label):\n",
    "    if chord_label in [\"N\", \"X\"]:\n",
    "        return chord_label\n",
    "\n",
    "    if chord_label.endswith(\"m\"):\n",
    "        return f\"{chord_label[:-1]}:min\"\n",
    "\n",
    "    return f\"{chord_label}:maj\"\n",
    "\n",
    "\n",
    "df_transformed[\"label\"] = df_transformed[\"label\"].apply(rename_chord)\n",
    "df_transformed[\"label\"].unique()"
   ]
  },
  {
   "cell_type": "code",
   "execution_count": 14,
   "metadata": {},
   "outputs": [],
   "source": [
    "df_transformed.to_csv(\n",
    "    \"own_examples/penny_lane/penny_lane_chord_estimate_transformed.csv\",\n",
    "    index=False,\n",
    "    header=False,\n",
    "    sep=\"\\t\",\n",
    ")"
   ]
  },
  {
   "cell_type": "code",
   "execution_count": null,
   "metadata": {},
   "outputs": [],
   "source": []
  }
 ],
 "metadata": {
  "kernelspec": {
   "display_name": "base",
   "language": "python",
   "name": "python3"
  },
  "language_info": {
   "codemirror_mode": {
    "name": "ipython",
    "version": 3
   },
   "file_extension": ".py",
   "mimetype": "text/x-python",
   "name": "python",
   "nbconvert_exporter": "python",
   "pygments_lexer": "ipython3",
   "version": "3.9.12"
  }
 },
 "nbformat": 4,
 "nbformat_minor": 2
}
